{
  "nbformat": 4,
  "nbformat_minor": 0,
  "metadata": {
    "colab": {
      "provenance": []
    },
    "kernelspec": {
      "name": "python3",
      "display_name": "Python 3"
    },
    "language_info": {
      "name": "python"
    }
  },
  "cells": [
    {
      "cell_type": "code",
      "execution_count": null,
      "metadata": {
        "id": "oYrvU5y00ePc"
      },
      "outputs": [],
      "source": [
        "# Basic If-Else Statements:"
      ]
    },
    {
      "cell_type": "code",
      "source": [
        "# Problem 1: Check if a given number is positive or negative\n",
        "def check_positive_negative(num):\n",
        "    if num > 0:\n",
        "        print(\"Positive number\")\n",
        "    elif num < 0:\n",
        "        print(\"Negative number\")\n",
        "    else:\n",
        "        print(\"Zero\")\n",
        "\n",
        "check_positive_negative(-5)"
      ],
      "metadata": {
        "colab": {
          "base_uri": "https://localhost:8080/"
        },
        "id": "cgjJGxD10maZ",
        "outputId": "b4b8bc08-1d87-49d4-a13f-3804a9a149af"
      },
      "execution_count": 1,
      "outputs": [
        {
          "output_type": "stream",
          "name": "stdout",
          "text": [
            "Negative number\n"
          ]
        }
      ]
    },
    {
      "cell_type": "code",
      "source": [
        "# Problem 2: Determine if a person is eligible to vote based on their age\n",
        "def check_voting_eligibility(age):\n",
        "    if age >= 18:\n",
        "        print(\"Eligible to vote\")\n",
        "    else:\n",
        "        print(\"Not eligible to vote\")\n",
        "\n",
        "check_voting_eligibility(20)"
      ],
      "metadata": {
        "colab": {
          "base_uri": "https://localhost:8080/"
        },
        "id": "LyFI-A9_0nSH",
        "outputId": "40b7520b-57e4-4b1b-8015-0a6887e77754"
      },
      "execution_count": 2,
      "outputs": [
        {
          "output_type": "stream",
          "name": "stdout",
          "text": [
            "Eligible to vote\n"
          ]
        }
      ]
    },
    {
      "cell_type": "code",
      "source": [
        "# Problem 3: Find the maximum of two numbers using if-else statements\n",
        "def find_max(num1, num2):\n",
        "    if num1 > num2:\n",
        "        print(num1)\n",
        "    else:\n",
        "        print(num2)\n",
        "\n",
        "find_max(10, 20)"
      ],
      "metadata": {
        "colab": {
          "base_uri": "https://localhost:8080/"
        },
        "id": "TeI9-NcP0vnF",
        "outputId": "3017b3e3-669d-4f59-d525-bb627d744813"
      },
      "execution_count": 3,
      "outputs": [
        {
          "output_type": "stream",
          "name": "stdout",
          "text": [
            "20\n"
          ]
        }
      ]
    },
    {
      "cell_type": "code",
      "source": [
        "# Problem 4: Classify a given year as a leap year or not\n",
        "def check_leap_year(year):\n",
        "    if (year % 4 == 0 and year % 100 != 0) or (year % 400 == 0):\n",
        "        print(\"Leap year\")\n",
        "    else:\n",
        "        print(\"Not a leap year\")\n",
        "\n",
        "check_leap_year(2020)"
      ],
      "metadata": {
        "colab": {
          "base_uri": "https://localhost:8080/"
        },
        "id": "xLWGdHs80zkG",
        "outputId": "1ad0cba8-3962-41b7-9e1d-794733d18c1c"
      },
      "execution_count": 5,
      "outputs": [
        {
          "output_type": "stream",
          "name": "stdout",
          "text": [
            "Leap year\n"
          ]
        }
      ]
    },
    {
      "cell_type": "code",
      "source": [
        "# Problem 5: Check whether a character is a vowel or a consonant\n",
        "def check_vowel_consonant(char):\n",
        "    if char.lower() in 'aeiou':\n",
        "        print(\"Vowel\")\n",
        "    else:\n",
        "        print(\"Consonant\")\n",
        "\n",
        "check_vowel_consonant('A')"
      ],
      "metadata": {
        "colab": {
          "base_uri": "https://localhost:8080/"
        },
        "id": "kjeDm29D03Eg",
        "outputId": "7e98b184-1b9f-4992-84be-e3f38f23e4c9"
      },
      "execution_count": 6,
      "outputs": [
        {
          "output_type": "stream",
          "name": "stdout",
          "text": [
            "Vowel\n"
          ]
        }
      ]
    },
    {
      "cell_type": "code",
      "source": [
        "# Problem 6: Determine whether a given number is even or odd\n",
        "def check_even_odd(num):\n",
        "    if num % 2 == 0:\n",
        "        print(\"Even number\")\n",
        "    else:\n",
        "        print(\"Odd number\")\n",
        "\n",
        "check_even_odd(7)"
      ],
      "metadata": {
        "colab": {
          "base_uri": "https://localhost:8080/"
        },
        "id": "kvDLnbom1J-B",
        "outputId": "0b359713-f880-4fc2-fdd5-4db1702e7134"
      },
      "execution_count": 7,
      "outputs": [
        {
          "output_type": "stream",
          "name": "stdout",
          "text": [
            "Odd number\n"
          ]
        }
      ]
    },
    {
      "cell_type": "code",
      "source": [
        "# Problem 7: Calculate the absolute value of a number without using the abs() function\n",
        "def absolute_value(num):\n",
        "    if num < 0:\n",
        "        print(-num)\n",
        "    else:\n",
        "        print(num)\n",
        "\n",
        "absolute_value(-5)"
      ],
      "metadata": {
        "colab": {
          "base_uri": "https://localhost:8080/"
        },
        "id": "rli9zplK3Atu",
        "outputId": "765a964f-a6a8-480d-a7b2-76208d15683c"
      },
      "execution_count": 8,
      "outputs": [
        {
          "output_type": "stream",
          "name": "stdout",
          "text": [
            "5\n"
          ]
        }
      ]
    },
    {
      "cell_type": "code",
      "source": [
        "# Problem 8: Determine the largest of three given numbers using if-else statements\n",
        "def find_largest(num1, num2, num3):\n",
        "    if num1 >= num2 and num1 >= num3:\n",
        "        print(num1)\n",
        "    elif num2 >= num1 and num2 >= num3:\n",
        "        print(num2)\n",
        "    else:\n",
        "        print(num3)\n",
        "\n",
        "find_largest(10, 20, 15)"
      ],
      "metadata": {
        "colab": {
          "base_uri": "https://localhost:8080/"
        },
        "id": "6mCDcnIH3By8",
        "outputId": "cd36c2b3-51b6-4955-d688-1baad4b24d6f"
      },
      "execution_count": 9,
      "outputs": [
        {
          "output_type": "stream",
          "name": "stdout",
          "text": [
            "20\n"
          ]
        }
      ]
    },
    {
      "cell_type": "code",
      "source": [
        "# Problem 9: Check if a given string is a palindrome\n",
        "def is_palindrome(s):\n",
        "    if s == s[::-1]:\n",
        "        print(\"Palindrome\")\n",
        "    else:\n",
        "        print(\"Not a palindrome\")\n",
        "\n",
        "is_palindrome(\"radar\")"
      ],
      "metadata": {
        "colab": {
          "base_uri": "https://localhost:8080/"
        },
        "id": "mVF9UJvx3HbR",
        "outputId": "0ecb9ff7-283b-4b98-db35-06aecd21f176"
      },
      "execution_count": 10,
      "outputs": [
        {
          "output_type": "stream",
          "name": "stdout",
          "text": [
            "Palindrome\n"
          ]
        }
      ]
    },
    {
      "cell_type": "code",
      "source": [
        "# Problem 10: Calculate the grade based on a student's score\n",
        "def calculate_grade(score):\n",
        "    if score >= 90:\n",
        "        print(\"A\")\n",
        "    elif score >= 80:\n",
        "        print(\"B\")\n",
        "    elif score >= 70:\n",
        "        print(\"C\")\n",
        "    elif score >= 60:\n",
        "        print(\"D\")\n",
        "    else:\n",
        "        print(\"F\")\n",
        "\n",
        "calculate_grade(85)"
      ],
      "metadata": {
        "colab": {
          "base_uri": "https://localhost:8080/"
        },
        "id": "skm05X8b3MPI",
        "outputId": "5ee2903c-7133-4bcc-ff6e-13a39ab8325d"
      },
      "execution_count": 11,
      "outputs": [
        {
          "output_type": "stream",
          "name": "stdout",
          "text": [
            "B\n"
          ]
        }
      ]
    },
    {
      "cell_type": "code",
      "source": [
        "#Nested If-Else Statements:"
      ],
      "metadata": {
        "id": "BPu9Sbo23Qih"
      },
      "execution_count": 12,
      "outputs": []
    },
    {
      "cell_type": "code",
      "source": [
        "# Problem 11: Find the largest among three numbers using nested if-else statements\n",
        "def find_largest_nested(num1, num2, num3):\n",
        "    if num1 >= num2:\n",
        "        if num1 >= num3:\n",
        "            print(num1)\n",
        "        else:\n",
        "            print(num3)\n",
        "    else:\n",
        "        if num2 >= num3:\n",
        "            print(num2)\n",
        "        else:\n",
        "            print(num3)\n",
        "\n",
        "find_largest_nested(10, 20, 15)"
      ],
      "metadata": {
        "colab": {
          "base_uri": "https://localhost:8080/"
        },
        "id": "Ibh2MQYP3mPW",
        "outputId": "c80fcd2e-4eed-4ae9-c7d2-490207b374ff"
      },
      "execution_count": 13,
      "outputs": [
        {
          "output_type": "stream",
          "name": "stdout",
          "text": [
            "20\n"
          ]
        }
      ]
    },
    {
      "cell_type": "code",
      "source": [
        "# Problem 12: Determine if a triangle is equilateral, isosceles, or scalene\n",
        "def triangle_type(side1, side2, side3):\n",
        "    if side1 == side2 == side3:\n",
        "        print(\"Equilateral triangle\")\n",
        "    elif side1 == side2 or side2 == side3 or side1 == side3:\n",
        "        print(\"Isosceles triangle\")\n",
        "    else:\n",
        "        print(\"Scalene triangle\")\n",
        "\n",
        "triangle_type(5, 5, 5)"
      ],
      "metadata": {
        "colab": {
          "base_uri": "https://localhost:8080/"
        },
        "id": "AzHYBYxO3rxy",
        "outputId": "1143a7e7-6add-40a8-d52b-a8c4ec49ca8d"
      },
      "execution_count": 14,
      "outputs": [
        {
          "output_type": "stream",
          "name": "stdout",
          "text": [
            "Equilateral triangle\n"
          ]
        }
      ]
    },
    {
      "cell_type": "code",
      "source": [
        "# Problem 13: Check if a year is a leap year and also if it is a century year\n",
        "def check_leap_century_year(year):\n",
        "    if (year % 4 == 0 and year % 100 != 0) or (year % 400 == 0):\n",
        "        print(\"Leap year\")\n",
        "        if year % 100 == 0:\n",
        "            print(\"Century year\")\n",
        "    else:\n",
        "        print(\"Not a leap year\")\n",
        "\n",
        "check_leap_century_year(2000)"
      ],
      "metadata": {
        "colab": {
          "base_uri": "https://localhost:8080/"
        },
        "id": "CKkGVU9L37H9",
        "outputId": "82cf0a2e-ab90-4db3-d711-c6e966d726df"
      },
      "execution_count": 15,
      "outputs": [
        {
          "output_type": "stream",
          "name": "stdout",
          "text": [
            "Leap year\n",
            "Century year\n"
          ]
        }
      ]
    },
    {
      "cell_type": "code",
      "source": [
        "# Problem 14: Determine if a number is positive, negative, or zero\n",
        "def check_positive_negative_zero(num):\n",
        "    if num > 0:\n",
        "        print(\"Positive number\")\n",
        "    elif num < 0:\n",
        "        print(\"Negative number\")\n",
        "    else:\n",
        "        print(\"Zero\")\n",
        "\n",
        "check_positive_negative_zero(-7)"
      ],
      "metadata": {
        "colab": {
          "base_uri": "https://localhost:8080/"
        },
        "id": "bNM6nBL34JOU",
        "outputId": "c0ebd7b8-a4b6-4000-a68c-f26833129c7c"
      },
      "execution_count": 16,
      "outputs": [
        {
          "output_type": "stream",
          "name": "stdout",
          "text": [
            "Negative number\n"
          ]
        }
      ]
    },
    {
      "cell_type": "code",
      "source": [
        "# Problem 15: Check if a person is a teenager (between 13 and 19 years old)\n",
        "def check_teenager(age):\n",
        "    if age >= 13 and age <= 19:\n",
        "        print(\"Teenager\")\n",
        "    else:\n",
        "        print(\"Not a teenager\")\n",
        "\n",
        "check_teenager(16)"
      ],
      "metadata": {
        "colab": {
          "base_uri": "https://localhost:8080/"
        },
        "id": "MygghaxV4OAA",
        "outputId": "158ef105-af03-4318-9cc7-e5c512a0f9f3"
      },
      "execution_count": 17,
      "outputs": [
        {
          "output_type": "stream",
          "name": "stdout",
          "text": [
            "Teenager\n"
          ]
        }
      ]
    },
    {
      "cell_type": "code",
      "source": [
        "# Problem 16: Determine the type of angle based on its measure\n",
        "def angle_type(measure):\n",
        "    if measure < 90:\n",
        "        print(\"Acute angle\")\n",
        "    elif measure == 90:\n",
        "        print(\"Right angle\")\n",
        "    else:\n",
        "        print(\"Obtuse angle\")\n",
        "\n",
        "angle_type(100)"
      ],
      "metadata": {
        "colab": {
          "base_uri": "https://localhost:8080/"
        },
        "id": "vDukLFeC4RhQ",
        "outputId": "1668f86b-fd06-4dce-b333-5d3d4e205c27"
      },
      "execution_count": 18,
      "outputs": [
        {
          "output_type": "stream",
          "name": "stdout",
          "text": [
            "Obtuse angle\n"
          ]
        }
      ]
    },
    {
      "cell_type": "code",
      "source": [
        "# Problem 17: Calculate the roots of a quadratic equation\n",
        "import cmath\n",
        "\n",
        "def quadratic_roots(a, b, c):\n",
        "    d = (b**2) - (4*a*c)\n",
        "    root1 = (-b - cmath.sqrt(d)) / (2*a)\n",
        "    root2 = (-b + cmath.sqrt(d)) / (2*a)\n",
        "    print(\"Root 1:\", root1)\n",
        "    print(\"Root 2:\", root2)\n",
        "\n",
        "quadratic_roots(1, 5, 6)"
      ],
      "metadata": {
        "colab": {
          "base_uri": "https://localhost:8080/"
        },
        "id": "3r8FwWk-4s2K",
        "outputId": "464b851f-b6cb-4d6c-fc10-9d9fc2cd16df"
      },
      "execution_count": 19,
      "outputs": [
        {
          "output_type": "stream",
          "name": "stdout",
          "text": [
            "Root 1: (-3+0j)\n",
            "Root 2: (-2+0j)\n"
          ]
        }
      ]
    },
    {
      "cell_type": "code",
      "source": [
        "# Problem 18: Determine the day of the week based on a user-provided number\n",
        "def day_of_week(day_number):\n",
        "    days = [\"Monday\", \"Tuesday\", \"Wednesday\", \"Thursday\", \"Friday\", \"Saturday\", \"Sunday\"]\n",
        "    if day_number >= 1 and day_number <= 7:\n",
        "        print(days[day_number - 1])\n",
        "    else:\n",
        "        print(\"Invalid day number\")\n",
        "\n",
        "day_of_week(3)"
      ],
      "metadata": {
        "colab": {
          "base_uri": "https://localhost:8080/"
        },
        "id": "-iq2hwTO5Juw",
        "outputId": "2d3768b8-4576-4297-af75-a820a73dc3f7"
      },
      "execution_count": 20,
      "outputs": [
        {
          "output_type": "stream",
          "name": "stdout",
          "text": [
            "Wednesday\n"
          ]
        }
      ]
    },
    {
      "cell_type": "code",
      "source": [
        "# Problem 19: Check if a year is a leap year and also if it is evenly divisible by 400\n",
        "def check_leap_divisible_400(year):\n",
        "    if year % 400 == 0:\n",
        "        print(\"Leap year and divisible by 400\")\n",
        "    elif (year % 4 == 0 and year % 100 != 0):\n",
        "        print(\"Leap year but not divisible by 400\")\n",
        "    else:\n",
        "        print(\"Not a leap year\")\n",
        "\n",
        "check_leap_divisible_400(2000)"
      ],
      "metadata": {
        "colab": {
          "base_uri": "https://localhost:8080/"
        },
        "id": "bO0-7i9_5-Gv",
        "outputId": "ca1763b6-2f95-4a3c-8970-d8bf5dd3d170"
      },
      "execution_count": 21,
      "outputs": [
        {
          "output_type": "stream",
          "name": "stdout",
          "text": [
            "Leap year and divisible by 400\n"
          ]
        }
      ]
    },
    {
      "cell_type": "code",
      "source": [
        "# Problem 20: Check if a given number is prime or not using nested if-else statements\n",
        "def check_prime(num):\n",
        "    if num > 1:\n",
        "        for i in range(2, num):\n",
        "            if (num % i) == 0:\n",
        "                print(\"Not a prime number\")\n",
        "                break\n",
        "        else:\n",
        "            print(\"Prime number\")\n",
        "    else:\n",
        "        print(\"Not a prime number\")\n",
        "\n",
        "check_prime(7)"
      ],
      "metadata": {
        "colab": {
          "base_uri": "https://localhost:8080/"
        },
        "id": "gkhaTnAJ6DiK",
        "outputId": "7c567caa-6056-4ba3-c9db-e18d89489b46"
      },
      "execution_count": 22,
      "outputs": [
        {
          "output_type": "stream",
          "name": "stdout",
          "text": [
            "Prime number\n"
          ]
        }
      ]
    },
    {
      "cell_type": "code",
      "source": [
        "#Elif Statements:"
      ],
      "metadata": {
        "id": "P5baUd9i6IhC"
      },
      "execution_count": 23,
      "outputs": []
    },
    {
      "cell_type": "code",
      "source": [
        "# Problem 21: Assign grades based on different ranges of scores using elif statements\n",
        "def assign_grade(score):\n",
        "    if score >= 90:\n",
        "        print(\"A\")\n",
        "    elif score >= 80:\n",
        "        print(\"B\")\n",
        "    elif score >= 70:\n",
        "        print(\"C\")\n",
        "    elif score >= 60:\n",
        "        print(\"D\")\n",
        "    else:\n",
        "        print(\"F\")\n",
        "\n",
        "assign_grade(75)"
      ],
      "metadata": {
        "colab": {
          "base_uri": "https://localhost:8080/"
        },
        "id": "1ygR4sLZ_COk",
        "outputId": "f015e6a8-7076-48e1-92a1-164f4f61bd52"
      },
      "execution_count": 24,
      "outputs": [
        {
          "output_type": "stream",
          "name": "stdout",
          "text": [
            "C\n"
          ]
        }
      ]
    },
    {
      "cell_type": "code",
      "source": [
        "# Problem 22: Determine the type of a triangle based on its angles\n",
        "def triangle_type_angles(angle1, angle2, angle3):\n",
        "    if angle1 == 90 or angle2 == 90 or angle3 == 90:\n",
        "        print(\"Right-angled triangle\")\n",
        "    elif angle1 < 90 and angle2 < 90 and angle3 < 90:\n",
        "        print(\"Acute-angled triangle\")\n",
        "    else:\n",
        "        print(\"Obtuse-angled triangle\")\n",
        "\n",
        "triangle_type_angles(60, 60, 60)"
      ],
      "metadata": {
        "colab": {
          "base_uri": "https://localhost:8080/"
        },
        "id": "r8kT43v8_V9I",
        "outputId": "f740499a-1228-4d44-b124-fb3947b1bd71"
      },
      "execution_count": 25,
      "outputs": [
        {
          "output_type": "stream",
          "name": "stdout",
          "text": [
            "Acute-angled triangle\n"
          ]
        }
      ]
    },
    {
      "cell_type": "code",
      "source": [
        "# Problem 23: Categorize a person's BMI into underweight, normal, overweight, or obese\n",
        "def categorize_bmi(height, weight):\n",
        "    bmi = weight / (height**2)\n",
        "    if bmi < 18.5:\n",
        "        print(\"Underweight\")\n",
        "    elif bmi >= 18.5 and bmi < 25:\n",
        "        print(\"Normal weight\")\n",
        "    elif bmi >= 25 and bmi < 30:\n",
        "        print(\"Overweight\")\n",
        "    else:\n",
        "        print(\"Obese\")\n",
        "\n",
        "categorize_bmi(1.75, 70)"
      ],
      "metadata": {
        "colab": {
          "base_uri": "https://localhost:8080/"
        },
        "id": "JJh7nt9J_Ywg",
        "outputId": "7ee27fbb-c3d6-49c2-a6f1-38526299371e"
      },
      "execution_count": 26,
      "outputs": [
        {
          "output_type": "stream",
          "name": "stdout",
          "text": [
            "Normal weight\n"
          ]
        }
      ]
    },
    {
      "cell_type": "code",
      "source": [
        "# Problem 24: Determine whether a given number is positive, negative, or zero\n",
        "def check_positive_negative_zero(num):\n",
        "    if num > 0:\n",
        "        print(\"Positive number\")\n",
        "    elif num < 0:\n",
        "        print(\"Negative number\")\n",
        "    else:\n",
        "        print(\"Zero\")\n",
        "\n",
        "check_positive_negative_zero(-7)"
      ],
      "metadata": {
        "colab": {
          "base_uri": "https://localhost:8080/"
        },
        "id": "x4Uu93hY_fMc",
        "outputId": "d872c8cb-bbb8-46e9-c149-d8894abfc8d7"
      },
      "execution_count": 27,
      "outputs": [
        {
          "output_type": "stream",
          "name": "stdout",
          "text": [
            "Negative number\n"
          ]
        }
      ]
    },
    {
      "cell_type": "code",
      "source": [
        "# Problem 25: Determine the type of a character (uppercase, lowercase, or special)\n",
        "def check_character_type(char):\n",
        "    if char.isupper():\n",
        "        print(\"Uppercase letter\")\n",
        "    elif char.islower():\n",
        "        print(\"Lowercase letter\")\n",
        "    else:\n",
        "        print(\"Special character\")\n",
        "\n",
        "check_character_type('A')"
      ],
      "metadata": {
        "colab": {
          "base_uri": "https://localhost:8080/"
        },
        "id": "s_6PJ0dZ_gPf",
        "outputId": "6ac53de5-1688-4d97-e62a-24df927f0535"
      },
      "execution_count": 28,
      "outputs": [
        {
          "output_type": "stream",
          "name": "stdout",
          "text": [
            "Uppercase letter\n"
          ]
        }
      ]
    },
    {
      "cell_type": "code",
      "source": [
        "# Problem 26: Calculate the discounted price based on different purchase amounts\n",
        "def calculate_discounted_price(amount):\n",
        "    if amount >= 1000:\n",
        "        discounted_price = amount * 0.9\n",
        "        print(\"Discounted price:\", discounted_price)\n",
        "    elif amount >= 500:\n",
        "        discounted_price = amount * 0.95\n",
        "        print(\"Discounted price:\", discounted_price)\n",
        "    else:\n",
        "        print(\"No discount applied\")\n",
        "\n",
        "calculate_discounted_price(1200)"
      ],
      "metadata": {
        "colab": {
          "base_uri": "https://localhost:8080/"
        },
        "id": "ccTROLn5_mEe",
        "outputId": "100ecb44-d9f0-403b-953a-d1649f6c25a6"
      },
      "execution_count": 29,
      "outputs": [
        {
          "output_type": "stream",
          "name": "stdout",
          "text": [
            "Discounted price: 1080.0\n"
          ]
        }
      ]
    },
    {
      "cell_type": "code",
      "source": [
        "# Problem 27: Calculate the electricity bill based on different consumption slabs\n",
        "def calculate_electricity_bill(units):\n",
        "    if units <= 100:\n",
        "        bill = units * 1.5\n",
        "    elif units <= 200:\n",
        "        bill = 100 * 1.5 + (units - 100) * 2\n",
        "    else:\n",
        "        bill = 100 * 1.5 + 100 * 2 + (units - 200) * 3\n",
        "    print(\"Electricity bill:\", bill)\n",
        "\n",
        "calculate_electricity_bill(150)"
      ],
      "metadata": {
        "colab": {
          "base_uri": "https://localhost:8080/"
        },
        "id": "7sYMq1it_o4i",
        "outputId": "26ba5f72-501d-4afc-99ec-aa3445b470c6"
      },
      "execution_count": 30,
      "outputs": [
        {
          "output_type": "stream",
          "name": "stdout",
          "text": [
            "Electricity bill: 250.0\n"
          ]
        }
      ]
    },
    {
      "cell_type": "code",
      "source": [
        "# Problem 28: Determine the type of quadrilateral based on its angles and sides\n",
        "def quadrilateral_type(angle1, angle2, angle3, angle4, side1, side2, side3, side4):\n",
        "    if angle1 == angle2 == angle3 == angle4:\n",
        "        print(\"Square\")\n",
        "    elif (angle1 == angle2 and angle3 == angle4) or (angle1 == angle3 and angle2 == angle4) or (angle1 == angle4 and angle2 == angle3):\n",
        "        if side1 == side2 == side3 == side4:\n",
        "            print(\"Rhombus\")\n",
        "        else:\n",
        "            print(\"Trapezoid\")\n",
        "    else:\n",
        "        print(\"Quadrilateral\")\n",
        "\n",
        "quadrilateral_type(90, 90, 90, 90, 5, 5, 5, 5)"
      ],
      "metadata": {
        "colab": {
          "base_uri": "https://localhost:8080/"
        },
        "id": "6sxOLgkK_rTK",
        "outputId": "ea5e477d-c88a-4575-c977-86c58e19967a"
      },
      "execution_count": 33,
      "outputs": [
        {
          "output_type": "stream",
          "name": "stdout",
          "text": [
            "Square\n"
          ]
        }
      ]
    },
    {
      "cell_type": "code",
      "source": [
        "# Problem 29: Determine the season based on a user-provided month\n",
        "def determine_season(month):\n",
        "    if month in [3, 4, 5]:\n",
        "        print(\"Spring\")\n",
        "    elif month in [6, 7, 8]:\n",
        "        print(\"Summer\")\n",
        "    elif month in [9, 10, 11]:\n",
        "        print(\"Autumn\")\n",
        "    else:\n",
        "        print(\"Winter\")\n",
        "\n",
        "determine_season(7)"
      ],
      "metadata": {
        "colab": {
          "base_uri": "https://localhost:8080/"
        },
        "id": "bPdbhreA_wwZ",
        "outputId": "25d6ab48-cd5d-4e6f-bc00-e98a5906a8ca"
      },
      "execution_count": 34,
      "outputs": [
        {
          "output_type": "stream",
          "name": "stdout",
          "text": [
            "Summer\n"
          ]
        }
      ]
    },
    {
      "cell_type": "code",
      "source": [
        "# Problem 30: Determine the type of a year (leap or common) and month (30 or 31 days)\n",
        "def year_month_type(year, month):\n",
        "    if (year % 4 == 0 and year % 100 != 0) or (year % 400 == 0):\n",
        "        print(\"Leap year\")\n",
        "    else:\n",
        "        print(\"Common year\")\n",
        "\n",
        "    if month in [4, 6, 9, 11]:\n",
        "        print(\"30 days\")\n",
        "    elif month == 2:\n",
        "        print(\"28 or 29 days\")\n",
        "    else:\n",
        "        print(\"31 days\")\n",
        "\n",
        "year_month_type(2020, 7)"
      ],
      "metadata": {
        "colab": {
          "base_uri": "https://localhost:8080/"
        },
        "id": "5L3ksBp8__lA",
        "outputId": "3f099377-e995-46ed-dce3-8da7e08cdf1f"
      },
      "execution_count": 35,
      "outputs": [
        {
          "output_type": "stream",
          "name": "stdout",
          "text": [
            "Leap year\n",
            "31 days\n"
          ]
        }
      ]
    },
    {
      "cell_type": "code",
      "source": [
        "# Basic level:"
      ],
      "metadata": {
        "id": "IZdjsECvAEzG"
      },
      "execution_count": 36,
      "outputs": []
    },
    {
      "cell_type": "code",
      "source": [
        "# Problem 1: Check if a given number is positive, negative, or zero\n",
        "def check_positive_negative_zero(num):\n",
        "    if num > 0:\n",
        "        print(\"Positive number\")\n",
        "    elif num < 0:\n",
        "        print(\"Negative number\")\n",
        "    else:\n",
        "        print(\"Zero\")\n",
        "\n",
        "check_positive_negative_zero(7)"
      ],
      "metadata": {
        "colab": {
          "base_uri": "https://localhost:8080/"
        },
        "id": "qs42DjvrA_Y9",
        "outputId": "1829af70-426f-4f27-d14c-8c31cdfaec3f"
      },
      "execution_count": 37,
      "outputs": [
        {
          "output_type": "stream",
          "name": "stdout",
          "text": [
            "Positive number\n"
          ]
        }
      ]
    },
    {
      "cell_type": "code",
      "source": [
        "# Problem 2: Determine if a person is eligible to vote based on their age\n",
        "def check_voting_eligibility(age):\n",
        "    if age >= 18:\n",
        "        print(\"Eligible to vote\")\n",
        "    else:\n",
        "        print(\"Not eligible to vote\")\n",
        "\n",
        "check_voting_eligibility(25)"
      ],
      "metadata": {
        "colab": {
          "base_uri": "https://localhost:8080/"
        },
        "id": "tt74u26lEoUK",
        "outputId": "8ed71cbd-0ab9-4a91-8b03-9522b7a6b879"
      },
      "execution_count": 38,
      "outputs": [
        {
          "output_type": "stream",
          "name": "stdout",
          "text": [
            "Eligible to vote\n"
          ]
        }
      ]
    },
    {
      "cell_type": "code",
      "source": [
        "# Problem 3: Find the maximum of two given numbers using conditional statements\n",
        "def find_maximum(num1, num2):\n",
        "    if num1 > num2:\n",
        "        print(\"Maximum:\", num1)\n",
        "    else:\n",
        "        print(\"Maximum:\", num2)\n",
        "\n",
        "find_maximum(10, 15)"
      ],
      "metadata": {
        "colab": {
          "base_uri": "https://localhost:8080/"
        },
        "id": "Y8LuJWNDFiYM",
        "outputId": "768606d1-cc7b-453c-801e-0ee4496d8802"
      },
      "execution_count": 39,
      "outputs": [
        {
          "output_type": "stream",
          "name": "stdout",
          "text": [
            "Maximum: 15\n"
          ]
        }
      ]
    },
    {
      "cell_type": "code",
      "source": [
        "# Problem 4: Calculate the grade of a student based on their exam score\n",
        "def calculate_grade(score):\n",
        "    if score >= 90:\n",
        "        print(\"Grade: A\")\n",
        "    elif score >= 80:\n",
        "        print(\"Grade: B\")\n",
        "    elif score >= 70:\n",
        "        print(\"Grade: C\")\n",
        "    elif score >= 60:\n",
        "        print(\"Grade: D\")\n",
        "    else:\n",
        "        print(\"Grade: F\")\n",
        "\n",
        "calculate_grade(85)"
      ],
      "metadata": {
        "colab": {
          "base_uri": "https://localhost:8080/"
        },
        "id": "uIQz4kIsFl6D",
        "outputId": "1ef4a641-bf7f-4505-d650-5436a3603a39"
      },
      "execution_count": 40,
      "outputs": [
        {
          "output_type": "stream",
          "name": "stdout",
          "text": [
            "Grade: B\n"
          ]
        }
      ]
    },
    {
      "cell_type": "code",
      "source": [
        "# Problem 5: Check if a year is a leap year or not\n",
        "def check_leap_year(year):\n",
        "    if (year % 4 == 0 and year % 100 != 0) or (year % 400 == 0):\n",
        "        print(\"Leap year\")\n",
        "    else:\n",
        "        print(\"Not a leap year\")\n",
        "\n",
        "check_leap_year(2020)"
      ],
      "metadata": {
        "colab": {
          "base_uri": "https://localhost:8080/"
        },
        "id": "JM1sO9WIFpQn",
        "outputId": "5bfb5e5f-b508-4fce-d2db-5beea4407cdb"
      },
      "execution_count": 42,
      "outputs": [
        {
          "output_type": "stream",
          "name": "stdout",
          "text": [
            "Leap year\n"
          ]
        }
      ]
    },
    {
      "cell_type": "code",
      "source": [
        "# Problem 6: Classify a triangle based on its sides' lengths\n",
        "def classify_triangle(side1, side2, side3):\n",
        "    if side1 == side2 == side3:\n",
        "        print(\"Equilateral triangle\")\n",
        "    elif side1 == side2 or side2 == side3 or side1 == side3:\n",
        "        print(\"Isosceles triangle\")\n",
        "    else:\n",
        "        print(\"Scalene triangle\")\n",
        "\n",
        "classify_triangle(5, 5, 7)"
      ],
      "metadata": {
        "colab": {
          "base_uri": "https://localhost:8080/"
        },
        "id": "kgFDCahvFtHl",
        "outputId": "19547fcd-3653-4faf-c60c-fc9287f70117"
      },
      "execution_count": 43,
      "outputs": [
        {
          "output_type": "stream",
          "name": "stdout",
          "text": [
            "Isosceles triangle\n"
          ]
        }
      ]
    },
    {
      "cell_type": "code",
      "source": [
        "# Problem 7: Determine the largest of three given numbers\n",
        "def find_largest(num1, num2, num3):\n",
        "    if num1 >= num2 and num1 >= num3:\n",
        "        print(\"Largest:\", num1)\n",
        "    elif num2 >= num1 and num2 >= num3:\n",
        "        print(\"Largest:\", num2)\n",
        "    else:\n",
        "        print(\"Largest:\", num3)\n",
        "\n",
        "find_largest(8, 12, 10)"
      ],
      "metadata": {
        "colab": {
          "base_uri": "https://localhost:8080/"
        },
        "id": "WcZskM3rFy7W",
        "outputId": "27afe5f5-535a-4601-eb9e-ba8b24738ac6"
      },
      "execution_count": 44,
      "outputs": [
        {
          "output_type": "stream",
          "name": "stdout",
          "text": [
            "Largest: 12\n"
          ]
        }
      ]
    },
    {
      "cell_type": "code",
      "source": [
        "# Problem 8: Check whether a character is a vowel or a consonant\n",
        "def check_vowel_consonant(char):\n",
        "    if char.lower() in ['a', 'e', 'i', 'o', 'u']:\n",
        "        print(\"Vowel\")\n",
        "    else:\n",
        "        print(\"Consonant\")\n",
        "\n",
        "check_vowel_consonant('A')"
      ],
      "metadata": {
        "colab": {
          "base_uri": "https://localhost:8080/"
        },
        "id": "HtPjEwqAF7yq",
        "outputId": "a43ae5d9-6ad3-41b2-995d-6a49eec2ffd5"
      },
      "execution_count": 45,
      "outputs": [
        {
          "output_type": "stream",
          "name": "stdout",
          "text": [
            "Vowel\n"
          ]
        }
      ]
    },
    {
      "cell_type": "code",
      "source": [
        "# Problem 9: Calculate the total cost of a shopping cart based on discounts\n",
        "def calculate_total_cost(amount):\n",
        "    if amount >= 1000:\n",
        "        discounted_price = amount * 0.9\n",
        "        print(\"Discounted price:\", discounted_price)\n",
        "    else:\n",
        "        print(\"No discount applied\")\n",
        "\n",
        "calculate_total_cost(1200)"
      ],
      "metadata": {
        "colab": {
          "base_uri": "https://localhost:8080/"
        },
        "id": "pGKVCIhuF_Ot",
        "outputId": "87aa0471-c911-4bf4-d1ad-335846c8748b"
      },
      "execution_count": 46,
      "outputs": [
        {
          "output_type": "stream",
          "name": "stdout",
          "text": [
            "Discounted price: 1080.0\n"
          ]
        }
      ]
    },
    {
      "cell_type": "code",
      "source": [
        "# Problem 10: Check if a given number is even or odd\n",
        "def check_even_odd(num):\n",
        "    if num % 2 == 0:\n",
        "        print(\"Even number\")\n",
        "    else:\n",
        "        print(\"Odd number\")\n",
        "\n",
        "check_even_odd(7)"
      ],
      "metadata": {
        "colab": {
          "base_uri": "https://localhost:8080/"
        },
        "id": "DBa2LFF7GCd5",
        "outputId": "4af3674e-4e16-4d68-e19b-78eed5fd5db9"
      },
      "execution_count": 47,
      "outputs": [
        {
          "output_type": "stream",
          "name": "stdout",
          "text": [
            "Odd number\n"
          ]
        }
      ]
    },
    {
      "cell_type": "code",
      "source": [
        "#Intermediate Level:"
      ],
      "metadata": {
        "id": "5Dz9qAUIGGwL"
      },
      "execution_count": 48,
      "outputs": []
    },
    {
      "cell_type": "code",
      "source": [
        "# 11. Program to calculate the roots of a quadratic equation\n",
        "import math\n",
        "\n",
        "def calculate_roots(a, b, c):\n",
        "    discriminant = b**2 - 4*a*c\n",
        "    if discriminant > 0:\n",
        "        root1 = (-b + math.sqrt(discriminant)) / (2*a)\n",
        "        root2 = (-b - math.sqrt(discriminant)) / (2*a)\n",
        "        return root1, root2\n",
        "    elif discriminant == 0:\n",
        "        root = -b / (2*a)\n",
        "        return root, root\n",
        "    else:\n",
        "        real_part = -b / (2*a)\n",
        "        imaginary_part = math.sqrt(abs(discriminant)) / (2*a)\n",
        "        return (real_part, imaginary_part), (real_part, -imaginary_part)\n",
        "\n",
        "# 12. Program to determine the day of the week based on the day number\n",
        "def get_day_of_week(day_number):\n",
        "    days = {1: \"Monday\", 2: \"Tuesday\", 3: \"Wednesday\", 4: \"Thursday\", 5: \"Friday\", 6: \"Saturday\", 7: \"Sunday\"}\n",
        "    return days.get(day_number, \"Invalid day number\")\n",
        "\n",
        "# 13. Program to calculate the factorial of a given number using recursion\n",
        "def calculate_factorial(n):\n",
        "    if n == 0 or n == 1:\n",
        "        return 1\n",
        "    else:\n",
        "        return n * calculate_factorial(n-1)\n",
        "\n",
        "# 14. Program to find the largest among three numbers without using the max() function\n",
        "def find_largest(a, b, c):\n",
        "    if a >= b and a >= c:\n",
        "        return a\n",
        "    elif b >= a and b >= c:\n",
        "        return b\n",
        "    else:\n",
        "        return c\n",
        "\n",
        "# 15. Program to simulate a basic ATM transaction menu\n",
        "def atm_transaction_menu():\n",
        "    print(\"1. Check Balance\")\n",
        "    print(\"2. Deposit\")\n",
        "    print(\"3. Withdraw\")\n",
        "    print(\"4. Quit\")\n",
        "\n",
        "# 16. Program to check if a given string is a palindrome or not\n",
        "def is_palindrome(s):\n",
        "    s = s.lower().replace(\" \", \"\")\n",
        "    return s == s[::-1]\n",
        "\n",
        "# 17. Program to calculate the average of a list of numbers, excluding the smallest and largest values\n",
        "def calculate_average(numbers):\n",
        "    if len(numbers) < 3:\n",
        "        return \"At least 3 numbers are required.\"\n",
        "    else:\n",
        "        numbers.sort()\n",
        "        return sum(numbers[1:-1]) / (len(numbers) - 2)\n",
        "\n",
        "# 18. Program to convert a given temperature from Celsius to Fahrenheit\n",
        "def celsius_to_fahrenheit(celsius):\n",
        "    return (celsius * 9/5) + 32\n",
        "\n",
        "# 19. Program to simulate a basic calculator for addition, subtraction, multiplication, and division\n",
        "def basic_calculator(operation, num1, num2):\n",
        "    if operation == \"add\":\n",
        "        return num1 + num2\n",
        "    elif operation == \"subtract\":\n",
        "        return num1 - num2\n",
        "    elif operation == \"multiply\":\n",
        "        return num1 * num2\n",
        "    elif operation == \"divide\":\n",
        "        if num2 != 0:\n",
        "            return num1 / num2\n",
        "        else:\n",
        "            return \"Cannot divide by zero\"\n",
        "\n",
        "# 20. Program to determine the roots of a cubic equation using the Cardano formula\n",
        "import math\n",
        "\n",
        "def calculate_cubic_roots(a, b, c, d):\n",
        "    p = (3*a*c - b**2) / (3*a**2)\n",
        "    q = (2*b**3 - 9*a*b*c + 27*a**2*d) / (27*a**3)\n",
        "    delta = (q/2)**2 + (p/3)**3\n",
        "\n",
        "    if delta > 0:\n",
        "        u = (-q/2 + math.sqrt(delta))**(1/3)\n",
        "        v = (-q/2 - math.sqrt(delta))**(1/3)\n",
        "        root1 = u + v - b/(3*a)\n",
        "        return root1\n",
        "    elif delta == 0:\n",
        "        if q == 0:\n",
        "            root1 = -b/(3*a)\n",
        "            return root1\n",
        "        else:\n",
        "            u = (-q/2)**(1/3)\n",
        "            root1 = 2*u - b/(3*a)\n",
        "            root2 = -u - b/(3*a)\n",
        "            return root1, root2\n",
        "    else:\n",
        "        rho = math.sqrt(-(p**3)/27)\n",
        "        theta = math.acos(-q/(2*rho))\n",
        "        root1 = 2*math.cbrt(rho)*math.cos(theta/3) - b/(3*a)\n",
        "        root2 = 2*math.cbrt(rho)*math.cos((theta+2*math.pi)/3) - b/(3*a)\n",
        "        root3 = 2*math.cbrt(rho)*math.cos((theta+4*math.pi)/3) - b/(3*a)\n",
        "        return root1, root2, root3\n"
      ],
      "metadata": {
        "id": "tzHlWpakGwxU"
      },
      "execution_count": null,
      "outputs": []
    },
    {
      "cell_type": "code",
      "source": [
        "#Advanced Level:"
      ],
      "metadata": {
        "id": "fcutXBrbG4Si"
      },
      "execution_count": 49,
      "outputs": []
    },
    {
      "cell_type": "code",
      "source": [
        "# 21. Program to calculate income tax based on user's income and tax brackets\n",
        "def calculate_income_tax(income):\n",
        "    if income <= 10000:\n",
        "        tax = 0.1 * income\n",
        "    elif income <= 50000:\n",
        "        tax = 1000 + 0.2 * (income - 10000)\n",
        "    else:\n",
        "        tax = 9000 + 0.3 * (income - 50000)\n",
        "    return tax\n",
        "\n",
        "# 22. Program to simulate a rock-paper-scissors game against the computer\n",
        "import random\n",
        "\n",
        "def rock_paper_scissors_game(player_choice):\n",
        "    choices = ['rock', 'paper', 'scissors']\n",
        "    computer_choice = random.choice(choices)\n",
        "    if player_choice == computer_choice:\n",
        "        return \"It's a tie!\"\n",
        "    elif (player_choice == 'rock' and computer_choice == 'scissors') or (player_choice == 'paper' and computer_choice == 'rock') or (player_choice == 'scissors' and computer_choice == 'paper'):\n",
        "        return \"You win!\"\n",
        "    else:\n",
        "        return \"Computer wins!\"\n",
        "\n",
        "# 23. Program to generate a random password based on user preferences\n",
        "import random\n",
        "import string\n",
        "\n",
        "def generate_random_password(length, complexity):\n",
        "    if complexity == \"low\":\n",
        "        characters = string.ascii_letters + string.digits\n",
        "    elif complexity == \"medium\":\n",
        "        characters = string.ascii_letters + string.digits + string.punctuation\n",
        "    else:\n",
        "        characters = string.ascii_letters + string.digits + string.punctuation + \"£$€\"\n",
        "    password = ''.join(random.choice(characters) for _ in range(length))\n",
        "    return password\n",
        "\n",
        "# 24. Program to implement a simple text-based adventure game\n",
        "def text_adventure_game():\n",
        "    print(\"You are in a dark room. There are two doors, one on the left and one on the right.\")\n",
        "    choice = input(\"Which door do you choose? (left/right): \")\n",
        "    if choice.lower() == \"left\":\n",
        "        print(\"You enter a treasure room and find a chest full of gold. Congratulations!\")\n",
        "    elif choice.lower() == \"right\":\n",
        "        print(\"You encounter a dragon and become its lunch. Game over!\")\n",
        "    else:\n",
        "        print(\"Invalid choice. Game over!\")\n",
        "\n",
        "# 25. Program to solve a linear equation for x\n",
        "def solve_linear_equation(a, b):\n",
        "    if a == 0:\n",
        "        if b == 0:\n",
        "            return \"Infinite solutions (all real numbers)\"\n",
        "        else:\n",
        "            return \"No solution\"\n",
        "    else:\n",
        "        x = -b / a\n",
        "        return x\n",
        "\n",
        "# 26. Program to simulate a basic quiz game\n",
        "def quiz_game(questions, answers):\n",
        "    score = 0\n",
        "    for i in range(len(questions)):\n",
        "        print(questions[i])\n",
        "        user_answer = input(\"Your answer: \").lower()\n",
        "        if user_answer == answers[i]:\n",
        "            print(\"Correct!\")\n",
        "            score += 1\n",
        "        else:\n",
        "            print(\"Incorrect!\")\n",
        "    print(\"Your final score is:\", score)\n",
        "\n",
        "# 27. Program to determine whether a given year is a prime number\n",
        "def is_prime_year(year):\n",
        "    if year > 1:\n",
        "        for i in range(2, year):\n",
        "            if (year % i) == 0:\n",
        "                return \"Not a prime year\"\n",
        "        else:\n",
        "            return \"Prime year\"\n",
        "    else:\n",
        "        return \"Not a prime year\"\n",
        "\n",
        "# 28. Program to sort three numbers in ascending order\n",
        "def sort_numbers(a, b, c):\n",
        "    if a <= b <= c:\n",
        "        return a, b, c\n",
        "    elif a <= c <= b:\n",
        "        return a, c, b\n",
        "    elif b <= a <= c:\n",
        "        return b, a, c\n",
        "    elif b <= c <= a:\n",
        "        return b, c, a\n",
        "    elif c <= a <= b:\n",
        "        return c, a, b\n",
        "    else:\n",
        "        return c, b, a\n",
        "\n",
        "\n",
        "# 30. Program to calculate BMI and provide health recommendations\n",
        "def calculate_bmi(weight, height):\n",
        "    bmi = (weight / (height ** 2)) * 703  # Formula for BMI using pounds and inches\n",
        "    if bmi < 18.5:\n",
        "        return bmi, \"Underweight\"\n",
        "    elif 18.5 <= bmi < 25:\n",
        "        return bmi, \"Normal weight\"\n",
        "    elif 25 <= bmi < 30:\n",
        "        return bmi, \"Overweight\"\n",
        "    else:\n",
        "        return bmi, \"Obese\"\n",
        "\n",
        "# Example usage\n",
        "print(calculate_bmi(150, 65))  # Calculate BMI for a person weighing 150 pounds and 65 inches tall\n"
      ],
      "metadata": {
        "id": "yKdOu5LMG7qU"
      },
      "execution_count": null,
      "outputs": []
    },
    {
      "cell_type": "code",
      "source": [
        "# Challenge Level:"
      ],
      "metadata": {
        "id": "BI6aboIoHXdm"
      },
      "execution_count": 50,
      "outputs": []
    },
    {
      "cell_type": "code",
      "source": [
        "# 31. Program to validate a password based on complexity rules\n",
        "def validate_password(password):\n",
        "    if len(password) < 8:\n",
        "        return False, \"Password must be at least 8 characters long\"\n",
        "    if not any(char.isdigit() for char in password):\n",
        "        return False, \"Password must contain at least one digit\"\n",
        "    if not any(char.isalpha() for char in password):\n",
        "        return False, \"Password must contain at least one letter\"\n",
        "    return True, \"Password is valid\"\n",
        "\n",
        "# 32. Program to perform matrix addition and subtraction\n",
        "def matrix_addition(matrix1, matrix2):\n",
        "    result = [[matrix1[i][j] + matrix2[i][j] for j in range(len(matrix1[0]))] for i in range(len(matrix1))]\n",
        "    return result\n",
        "\n",
        "def matrix_subtraction(matrix1, matrix2):\n",
        "    result = [[matrix1[i][j] - matrix2[i][j] for j in range(len(matrix1[0]))] for i in range(len(matrix1))]\n",
        "    return result\n",
        "\n",
        "# 33. Program to calculate the greatest common divisor (GCD) using the Euclidean algorithm\n",
        "def gcd_euclidean(a, b):\n",
        "    while b:\n",
        "        a, b = b, a % b\n",
        "    return a\n",
        "\n",
        "# 34. Program to perform matrix multiplication\n",
        "def matrix_multiplication(matrix1, matrix2):\n",
        "    result = [[0 for _ in range(len(matrix2[0]))] for _ in range(len(matrix1))]\n",
        "    for i in range(len(matrix1)):\n",
        "        for j in range(len(matrix2[0])):\n",
        "            for k in range(len(matrix2)):\n",
        "                result[i][j] += matrix1[i][k] * matrix2[k][j]\n",
        "    return result\n",
        "\n",
        "# 35. Program to simulate a basic text-based tic-tac-toe game against the computer\n",
        "def print_board(board):\n",
        "    for row in board:\n",
        "        print(\" | \".join(row))\n",
        "        print(\"-\" * 9)\n",
        "\n",
        "def is_winner(board, player):\n",
        "    # Check rows, columns, and diagonals for a win\n",
        "    for i in range(3):\n",
        "        if all(cell == player for cell in board[i]) or all(board[j][i] == player for j in range(3)):\n",
        "            return True\n",
        "    if all(board[i][i] == player for i in range(3)) or all(board[i][2 - i] == player for i in range(3)):\n",
        "        return True\n",
        "    return False\n",
        "\n",
        "# 36. Program to generate Fibonacci numbers up to a specified term using iterative methods\n",
        "def generate_fibonacci_iterative(n):\n",
        "    fib_sequence = [0, 1]\n",
        "    for _ in range(2, n):\n",
        "        fib_sequence.append(fib_sequence[-1] + fib_sequence[-2])\n",
        "    return fib_sequence\n",
        "\n",
        "# 37. Program to calculate the nth term of the Fibonacci sequence using memoization\n",
        "def fibonacci_memoization(n, memo={}):\n",
        "    if n in memo:\n",
        "        return memo[n]\n",
        "    if n <= 2:\n",
        "        return 1\n",
        "    memo[n] = fibonacci_memoization(n - 1, memo) + fibonacci_memoization(n - 2, memo)\n",
        "    return memo[n]\n",
        "\n",
        "# 38. Program to generate a calendar for a given month and year using conditional statements\n",
        "import calendar\n",
        "\n",
        "def generate_calendar(month, year):\n",
        "    return calendar.monthcalendar(year, month)\n",
        "\n",
        "# 39. Program to simulate a basic text-based blackjack game against the computer\n",
        "import random\n",
        "\n",
        "def blackjack_game():\n",
        "    deck = [2, 3, 4, 5, 6, 7, 8, 9, 10, 10, 10, 10, 11] * 4\n",
        "    random.shuffle(deck)\n",
        "    player_hand = [deck.pop(), deck.pop()]\n",
        "    dealer_hand = [deck.pop(), deck.pop()]\n",
        "    player_total = sum(player_hand)\n",
        "    dealer_total = sum(dealer_hand)\n",
        "    return player_hand, dealer_hand, player_total, dealer_total\n",
        "\n",
        "# 40. Program to generate the prime factors of a given number using trial division\n",
        "def prime_factors_trial_division(n):\n",
        "    factors = []\n",
        "    divisor = 2\n",
        "    while n > 1:\n",
        "        while n % divisor == 0:\n",
        "            factors.append(divisor)\n",
        "            n //= divisor\n",
        "        divisor += 1\n",
        "    return factors\n",
        "\n",
        "# Example usage\n",
        "print(validate_password(\"P@ssw0rd\"))\n",
        "print(matrix_addition([[1, 2], [3, 4]], [[5, 6], [7, 8]]))\n",
        "print(gcd_euclidean(24, 36))\n",
        "print(matrix_multiplication([[1, 2], [3, 4]], [[5, 6], [7, 8]]))\n",
        "print(generate_fibonacci_iterative(10))\n",
        "print(fibonacci_memoization(10))\n",
        "print(generate_calendar(10, 2022))\n",
        "print(blackjack_game())\n",
        "print(prime_factors_trial_division(60))\n"
      ],
      "metadata": {
        "id": "BpRfBxpFHohz"
      },
      "execution_count": null,
      "outputs": []
    }
  ]
}